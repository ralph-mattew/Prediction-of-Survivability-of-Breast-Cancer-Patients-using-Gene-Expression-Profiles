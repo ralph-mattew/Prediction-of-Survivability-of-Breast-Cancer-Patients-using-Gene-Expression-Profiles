{
 "cells": [
  {
   "cell_type": "code",
   "execution_count": 88,
   "metadata": {
    "ExecuteTime": {
     "end_time": "2020-08-23T16:28:39.891411Z",
     "start_time": "2020-08-23T16:28:39.621466Z"
    }
   },
   "outputs": [],
   "source": [
    "import numpy as np\n",
    "import pandas as pd\n",
    "import matplotlib.pyplot as plt\n",
    "import seaborn as sns\n",
    "from sklearn.preprocessing import StandardScaler\n",
    "from sklearn.preprocessing import MinMaxScaler\n",
    "from sklearn.model_selection import train_test_split\n",
    "from sklearn.ensemble import GradientBoostingClassifier\n",
    "from sklearn.ensemble import GradientBoostingRegressor\n",
    "from sklearn.ensemble import RandomForestRegressor\n",
    "from sklearn.ensemble import RandomForestClassifier\n",
    "from sklearn.tree import DecisionTreeClassifier\n",
    "from sklearn.model_selection import cross_validate\n",
    "from sklearn.model_selection import cross_val_score\n",
    "from sklearn.linear_model import LogisticRegression\n",
    "from sklearn.decomposition import PCA, TruncatedSVD\n",
    "from sklearn.neighbors import KNeighborsClassifier\n",
    "from collections import Counter\n",
    "import matplotlib.pyplot as plt\n",
    "from sklearn.preprocessing import StandardScaler\n",
    "from sklearn.cluster import KMeans\n",
    "import seaborn as sns\n",
    "from sklearn.naive_bayes import BernoulliNB, ComplementNB, MultinomialNB\n",
    "from sklearn.decomposition import PCA, TruncatedSVD\n",
    "from sklearn.feature_selection import SelectKBest\n",
    "from sklearn.feature_selection import mutual_info_classif\n",
    "from sklearn.cluster import FeatureAgglomeration\n",
    "from sklearn.cluster import AgglomerativeClustering\n",
    "from sklearn.feature_selection import VarianceThreshold\n",
    "from sklearn.metrics import calinski_harabasz_score\n",
    "from sklearn.metrics import silhouette_score\n",
    "from scipy.spatial.distance import euclidean, cityblock\n",
    "from sklearn.linear_model import LinearRegression\n",
    "from sklearn.neighbors import LocalOutlierFactor\n",
    "from sklearn.metrics import mean_absolute_error\n",
    "from sklearn.model_selection import train_test_split\n",
    "from statsmodels.stats.outliers_influence import variance_inflation_factor\n",
    "from sklearn.linear_model import LogisticRegressionCV\n",
    "from collections import defaultdict\n",
    "from scipy.optimize import curve_fit\n",
    "\n",
    "raw = pd.read_csv('METABRIC_RNA_Mutation.csv', low_memory=False)"
   ]
  },
  {
   "cell_type": "code",
   "execution_count": 89,
   "metadata": {
    "ExecuteTime": {
     "end_time": "2020-08-23T16:28:51.395289Z",
     "start_time": "2020-08-23T16:28:51.367666Z"
    }
   },
   "outputs": [],
   "source": [
    "def pre_process(df):\n",
    "    \"\"\"Performs all pre-processing steps including imputation, mapping and\n",
    "    log-transformation.\"\"\"\n",
    "    \n",
    "    df = raw[raw['death_from_cancer'] != \n",
    "             'Died of Other Causes'].iloc[:, :515].copy()                           ## remove patients died from other causes\n",
    "    df.drop(columns=['death_from_cancer'], inplace=True)\n",
    "\n",
    "    ## remove irrelevant and redundant features\n",
    "    df.drop(columns=['patient_id', 'cancer_type', \n",
    "                     'er_status_measured_by_ihc', 'her2_status'], inplace=True)\n",
    "\n",
    "    ## map cellularity\n",
    "    cellularity_map = {'High': 3, 'Moderate': 2, 'Low': 1}\n",
    "    df['cellularity'] = df['cellularity'].map(cellularity_map)\n",
    "\n",
    "    ## impute missing values\n",
    "    df['neoplasm_histologic_grade'].fillna(\n",
    "        df['neoplasm_histologic_grade'].value_counts().index[0], inplace=True)     ## most frequent\n",
    "    df['mutation_count'].fillna(df['mutation_count'].value_counts().index[0],\n",
    "                                inplace=True)\n",
    "    df['tumor_size'].fillna(df['tumor_size'].mean(), inplace=True)                 ## mean\n",
    "    df['tumor_stage'].fillna(df['tumor_stage'].value_counts().index[0], \n",
    "                             inplace=True)\n",
    "    df['cellularity'].fillna(df['cellularity'].value_counts().index[0], \n",
    "                             inplace=True)\n",
    "\n",
    "    ## handing of wrong entries\n",
    "    df = df.replace('Breast', df['cancer_type_detailed'].value_counts().index[0])\n",
    "\n",
    "    ## logarithmic transformation of continuous numerical features\n",
    "    df['log_age'] = (df['age_at_diagnosis']+1).transform(np.log)\n",
    "    df['log_tumor_size'] = (df['tumor_size']+1).transform(np.log)\n",
    "\n",
    "    df.drop(columns=['age_at_diagnosis', 'tumor_size'], inplace=True)\n",
    "    return df\n",
    "\n",
    "def discretize_transform(df):\n",
    "    \"\"\"Discretized df into time intervals.\n",
    "    \"\"\"\n",
    "    def discretize(x):\n",
    "        return np.ceil(x/12)\n",
    "    \n",
    "    df['time_bin'] = df['overall_survival_months'].apply(lambda x: discretize(x))\n",
    "    \n",
    "    return df"
   ]
  },
  {
   "cell_type": "code",
   "execution_count": 90,
   "metadata": {
    "ExecuteTime": {
     "end_time": "2020-08-23T16:28:58.102233Z",
     "start_time": "2020-08-23T16:28:58.046672Z"
    }
   },
   "outputs": [],
   "source": [
    "df = pre_process(raw)"
   ]
  },
  {
   "cell_type": "code",
   "execution_count": 165,
   "metadata": {
    "ExecuteTime": {
     "end_time": "2020-08-23T16:50:59.126748Z",
     "start_time": "2020-08-23T16:50:59.118008Z"
    }
   },
   "outputs": [],
   "source": [
    "df = df[df['overall_survival_months'] <= 60].copy()"
   ]
  },
  {
   "cell_type": "code",
   "execution_count": 166,
   "metadata": {
    "ExecuteTime": {
     "end_time": "2020-08-23T16:51:01.212632Z",
     "start_time": "2020-08-23T16:51:01.207506Z"
    }
   },
   "outputs": [],
   "source": [
    "# df_t2 = df[df[f'time_bin']==2].drop(columns='time_bin')\n",
    "# df_t3 = df[df[f'time_bin']==3].drop(columns='time_bin')\n",
    "# df_t4 = df[df[f'time_bin']==4].drop(columns='time_bin')\n",
    "# df_t5 = df[df[f'time_bin']==5].drop(columns='time_bin')\n",
    "# df_t6 = df[df[f'time_bin']==6].drop(columns='time_bin')\n",
    "# df_t7 = df[df[f'time_bin']==7].drop(columns='time_bin')\n",
    "# df_t8 = df[df[f'time_bin']==8].drop(columns='time_bin')\n",
    "# df_t9 = df[df[f'time_bin']==9].drop(columns='time_bin')"
   ]
  },
  {
   "cell_type": "code",
   "execution_count": 82,
   "metadata": {
    "ExecuteTime": {
     "end_time": "2020-08-23T12:22:42.776638Z",
     "start_time": "2020-08-23T12:22:42.763593Z"
    }
   },
   "outputs": [
    {
     "data": {
      "text/plain": [
       "0    65\n",
       "1    15\n",
       "Name: overall_survival, dtype: int64"
      ]
     },
     "execution_count": 82,
     "metadata": {},
     "output_type": "execute_result"
    }
   ],
   "source": [
    "df_t5['overall_survival'].value_counts()"
   ]
  },
  {
   "cell_type": "code",
   "execution_count": 167,
   "metadata": {
    "ExecuteTime": {
     "end_time": "2020-08-23T16:51:04.979893Z",
     "start_time": "2020-08-23T16:51:04.730868Z"
    }
   },
   "outputs": [],
   "source": [
    "## check and filter collinearities among features\n",
    "\n",
    "s_list = [0]\n",
    "\n",
    "while len(s_list):\n",
    "    corr = df.iloc[:100].corr()\n",
    "    col_list2 = corr.columns\n",
    "    series_dict = {}\n",
    "    for col in col_list2:\n",
    "        x = corr.sort_values(by=col, ascending=False)[col].iloc[1:2]\n",
    "        if x.values > 0.6:\n",
    "            series_dict[col] = x.index[0]\n",
    "\n",
    "    unique = set(series_dict.keys()) -set(series_dict.values())\n",
    "    duplicates = set(series_dict.keys()) -  unique\n",
    "    \n",
    "    m = []\n",
    "    for dup in duplicates:\n",
    "         if dup not in m:\n",
    "                m.append(series_dict[dup])\n",
    "    s_list = m + list(unique)\n",
    "\n",
    "    df.drop(columns=s_list, inplace=True)\n",
    "#     df_t3.drop(columns=s_list, inplace=True)\n",
    "#     df_t4.drop(columns=s_list, inplace=True)\n",
    "#     df_t5.drop(columns=s_list, inplace=True)\n",
    "#     df_t6.drop(columns=s_list, inplace=True)\n",
    "#     df_t7.drop(columns=s_list, inplace=True)\n",
    "#     df_t8.drop(columns=s_list, inplace=True)\n",
    "#     df_t9.drop(columns=s_list, inplace=True)"
   ]
  },
  {
   "cell_type": "code",
   "execution_count": 168,
   "metadata": {
    "ExecuteTime": {
     "end_time": "2020-08-23T16:51:05.822405Z",
     "start_time": "2020-08-23T16:51:05.761186Z"
    },
    "scrolled": false
   },
   "outputs": [
    {
     "data": {
      "text/html": [
       "<div>\n",
       "<style scoped>\n",
       "    .dataframe tbody tr th:only-of-type {\n",
       "        vertical-align: middle;\n",
       "    }\n",
       "\n",
       "    .dataframe tbody tr th {\n",
       "        vertical-align: top;\n",
       "    }\n",
       "\n",
       "    .dataframe thead th {\n",
       "        text-align: right;\n",
       "    }\n",
       "</style>\n",
       "<table border=\"1\" class=\"dataframe\">\n",
       "  <thead>\n",
       "    <tr style=\"text-align: right;\">\n",
       "      <th></th>\n",
       "      <th>type_of_breast_surgery</th>\n",
       "      <th>cancer_type_detailed</th>\n",
       "      <th>cellularity</th>\n",
       "      <th>chemotherapy</th>\n",
       "      <th>pam50_+_claudin-low_subtype</th>\n",
       "      <th>cohort</th>\n",
       "      <th>er_status</th>\n",
       "      <th>her2_status_measured_by_snp6</th>\n",
       "      <th>tumor_other_histologic_subtype</th>\n",
       "      <th>hormone_therapy</th>\n",
       "      <th>...</th>\n",
       "      <th>serpini1</th>\n",
       "      <th>shbg</th>\n",
       "      <th>slc29a1</th>\n",
       "      <th>sox9</th>\n",
       "      <th>srd5a1</th>\n",
       "      <th>srd5a2</th>\n",
       "      <th>st7</th>\n",
       "      <th>star</th>\n",
       "      <th>log_age</th>\n",
       "      <th>log_tumor_size</th>\n",
       "    </tr>\n",
       "  </thead>\n",
       "  <tbody>\n",
       "    <tr>\n",
       "      <th>4</th>\n",
       "      <td>MASTECTOMY</td>\n",
       "      <td>Breast Mixed Ductal and Lobular Carcinoma</td>\n",
       "      <td>3.0</td>\n",
       "      <td>1</td>\n",
       "      <td>LumB</td>\n",
       "      <td>1.0</td>\n",
       "      <td>Positive</td>\n",
       "      <td>NEUTRAL</td>\n",
       "      <td>Mixed</td>\n",
       "      <td>1</td>\n",
       "      <td>...</td>\n",
       "      <td>-0.5545</td>\n",
       "      <td>0.0266</td>\n",
       "      <td>0.5328</td>\n",
       "      <td>0.1858</td>\n",
       "      <td>-0.5845</td>\n",
       "      <td>-0.3544</td>\n",
       "      <td>2.2961</td>\n",
       "      <td>0.1817</td>\n",
       "      <td>4.356324</td>\n",
       "      <td>3.713572</td>\n",
       "    </tr>\n",
       "    <tr>\n",
       "      <th>5</th>\n",
       "      <td>MASTECTOMY</td>\n",
       "      <td>Breast Invasive Ductal Carcinoma</td>\n",
       "      <td>2.0</td>\n",
       "      <td>0</td>\n",
       "      <td>LumB</td>\n",
       "      <td>1.0</td>\n",
       "      <td>Positive</td>\n",
       "      <td>NEUTRAL</td>\n",
       "      <td>Ductal/NST</td>\n",
       "      <td>1</td>\n",
       "      <td>...</td>\n",
       "      <td>-0.3843</td>\n",
       "      <td>0.4306</td>\n",
       "      <td>0.0314</td>\n",
       "      <td>0.6884</td>\n",
       "      <td>-0.3910</td>\n",
       "      <td>0.0395</td>\n",
       "      <td>0.1977</td>\n",
       "      <td>-0.2302</td>\n",
       "      <td>4.379147</td>\n",
       "      <td>3.465736</td>\n",
       "    </tr>\n",
       "    <tr>\n",
       "      <th>9</th>\n",
       "      <td>MASTECTOMY</td>\n",
       "      <td>Breast Invasive Lobular Carcinoma</td>\n",
       "      <td>3.0</td>\n",
       "      <td>0</td>\n",
       "      <td>Her2</td>\n",
       "      <td>1.0</td>\n",
       "      <td>Positive</td>\n",
       "      <td>LOSS</td>\n",
       "      <td>Lobular</td>\n",
       "      <td>0</td>\n",
       "      <td>...</td>\n",
       "      <td>-0.7730</td>\n",
       "      <td>-0.0610</td>\n",
       "      <td>-0.7246</td>\n",
       "      <td>0.2232</td>\n",
       "      <td>-0.3020</td>\n",
       "      <td>-0.4788</td>\n",
       "      <td>1.9925</td>\n",
       "      <td>0.2253</td>\n",
       "      <td>4.445236</td>\n",
       "      <td>3.367296</td>\n",
       "    </tr>\n",
       "    <tr>\n",
       "      <th>24</th>\n",
       "      <td>MASTECTOMY</td>\n",
       "      <td>Breast Invasive Ductal Carcinoma</td>\n",
       "      <td>3.0</td>\n",
       "      <td>1</td>\n",
       "      <td>Her2</td>\n",
       "      <td>1.0</td>\n",
       "      <td>Negative</td>\n",
       "      <td>NEUTRAL</td>\n",
       "      <td>Ductal/NST</td>\n",
       "      <td>0</td>\n",
       "      <td>...</td>\n",
       "      <td>-0.4717</td>\n",
       "      <td>-0.2999</td>\n",
       "      <td>-1.1837</td>\n",
       "      <td>-0.6720</td>\n",
       "      <td>0.5388</td>\n",
       "      <td>0.7492</td>\n",
       "      <td>2.6880</td>\n",
       "      <td>-0.0811</td>\n",
       "      <td>3.940027</td>\n",
       "      <td>3.713572</td>\n",
       "    </tr>\n",
       "    <tr>\n",
       "      <th>30</th>\n",
       "      <td>MASTECTOMY</td>\n",
       "      <td>Breast Invasive Ductal Carcinoma</td>\n",
       "      <td>1.0</td>\n",
       "      <td>1</td>\n",
       "      <td>Basal</td>\n",
       "      <td>1.0</td>\n",
       "      <td>Negative</td>\n",
       "      <td>NEUTRAL</td>\n",
       "      <td>Ductal/NST</td>\n",
       "      <td>0</td>\n",
       "      <td>...</td>\n",
       "      <td>-0.8543</td>\n",
       "      <td>-0.6889</td>\n",
       "      <td>0.5904</td>\n",
       "      <td>-0.4976</td>\n",
       "      <td>-0.9430</td>\n",
       "      <td>1.0138</td>\n",
       "      <td>0.0830</td>\n",
       "      <td>0.2368</td>\n",
       "      <td>4.243913</td>\n",
       "      <td>3.688879</td>\n",
       "    </tr>\n",
       "    <tr>\n",
       "      <th>...</th>\n",
       "      <td>...</td>\n",
       "      <td>...</td>\n",
       "      <td>...</td>\n",
       "      <td>...</td>\n",
       "      <td>...</td>\n",
       "      <td>...</td>\n",
       "      <td>...</td>\n",
       "      <td>...</td>\n",
       "      <td>...</td>\n",
       "      <td>...</td>\n",
       "      <td>...</td>\n",
       "      <td>...</td>\n",
       "      <td>...</td>\n",
       "      <td>...</td>\n",
       "      <td>...</td>\n",
       "      <td>...</td>\n",
       "      <td>...</td>\n",
       "      <td>...</td>\n",
       "      <td>...</td>\n",
       "      <td>...</td>\n",
       "      <td>...</td>\n",
       "    </tr>\n",
       "    <tr>\n",
       "      <th>1887</th>\n",
       "      <td>MASTECTOMY</td>\n",
       "      <td>Breast Invasive Ductal Carcinoma</td>\n",
       "      <td>2.0</td>\n",
       "      <td>1</td>\n",
       "      <td>Her2</td>\n",
       "      <td>4.0</td>\n",
       "      <td>Negative</td>\n",
       "      <td>GAIN</td>\n",
       "      <td>Ductal/NST</td>\n",
       "      <td>1</td>\n",
       "      <td>...</td>\n",
       "      <td>-0.7585</td>\n",
       "      <td>0.6265</td>\n",
       "      <td>0.2031</td>\n",
       "      <td>-0.7843</td>\n",
       "      <td>0.4139</td>\n",
       "      <td>3.1679</td>\n",
       "      <td>-0.6758</td>\n",
       "      <td>-0.9143</td>\n",
       "      <td>3.955466</td>\n",
       "      <td>2.833213</td>\n",
       "    </tr>\n",
       "    <tr>\n",
       "      <th>1888</th>\n",
       "      <td>BREAST CONSERVING</td>\n",
       "      <td>Breast Invasive Lobular Carcinoma</td>\n",
       "      <td>2.0</td>\n",
       "      <td>1</td>\n",
       "      <td>LumB</td>\n",
       "      <td>4.0</td>\n",
       "      <td>Positive</td>\n",
       "      <td>LOSS</td>\n",
       "      <td>Lobular</td>\n",
       "      <td>1</td>\n",
       "      <td>...</td>\n",
       "      <td>2.4943</td>\n",
       "      <td>-0.5515</td>\n",
       "      <td>0.3960</td>\n",
       "      <td>0.9873</td>\n",
       "      <td>0.6775</td>\n",
       "      <td>0.2300</td>\n",
       "      <td>0.8643</td>\n",
       "      <td>-1.5209</td>\n",
       "      <td>4.014941</td>\n",
       "      <td>3.433987</td>\n",
       "    </tr>\n",
       "    <tr>\n",
       "      <th>1893</th>\n",
       "      <td>BREAST CONSERVING</td>\n",
       "      <td>Breast Invasive Ductal Carcinoma</td>\n",
       "      <td>3.0</td>\n",
       "      <td>0</td>\n",
       "      <td>LumB</td>\n",
       "      <td>4.0</td>\n",
       "      <td>Positive</td>\n",
       "      <td>NEUTRAL</td>\n",
       "      <td>Ductal/NST</td>\n",
       "      <td>1</td>\n",
       "      <td>...</td>\n",
       "      <td>-0.1345</td>\n",
       "      <td>-0.7049</td>\n",
       "      <td>-0.1228</td>\n",
       "      <td>0.1102</td>\n",
       "      <td>-0.3262</td>\n",
       "      <td>0.7857</td>\n",
       "      <td>0.9358</td>\n",
       "      <td>-0.9700</td>\n",
       "      <td>4.037774</td>\n",
       "      <td>3.433987</td>\n",
       "    </tr>\n",
       "    <tr>\n",
       "      <th>1895</th>\n",
       "      <td>MASTECTOMY</td>\n",
       "      <td>Breast Invasive Ductal Carcinoma</td>\n",
       "      <td>3.0</td>\n",
       "      <td>0</td>\n",
       "      <td>claudin-low</td>\n",
       "      <td>4.0</td>\n",
       "      <td>Negative</td>\n",
       "      <td>GAIN</td>\n",
       "      <td>Ductal/NST</td>\n",
       "      <td>1</td>\n",
       "      <td>...</td>\n",
       "      <td>-0.5185</td>\n",
       "      <td>-0.7966</td>\n",
       "      <td>-1.2708</td>\n",
       "      <td>-0.5444</td>\n",
       "      <td>-0.1952</td>\n",
       "      <td>-1.4212</td>\n",
       "      <td>-0.2010</td>\n",
       "      <td>-0.3020</td>\n",
       "      <td>4.004967</td>\n",
       "      <td>3.931826</td>\n",
       "    </tr>\n",
       "    <tr>\n",
       "      <th>1900</th>\n",
       "      <td>MASTECTOMY</td>\n",
       "      <td>Breast Invasive Ductal Carcinoma</td>\n",
       "      <td>3.0</td>\n",
       "      <td>0</td>\n",
       "      <td>LumB</td>\n",
       "      <td>4.0</td>\n",
       "      <td>Positive</td>\n",
       "      <td>GAIN</td>\n",
       "      <td>Ductal/NST</td>\n",
       "      <td>0</td>\n",
       "      <td>...</td>\n",
       "      <td>0.1808</td>\n",
       "      <td>1.0998</td>\n",
       "      <td>0.3414</td>\n",
       "      <td>0.2780</td>\n",
       "      <td>-0.5294</td>\n",
       "      <td>-0.6610</td>\n",
       "      <td>0.2251</td>\n",
       "      <td>0.5127</td>\n",
       "      <td>3.781459</td>\n",
       "      <td>3.044522</td>\n",
       "    </tr>\n",
       "  </tbody>\n",
       "</table>\n",
       "<p>385 rows × 352 columns</p>\n",
       "</div>"
      ],
      "text/plain": [
       "     type_of_breast_surgery                       cancer_type_detailed  \\\n",
       "4                MASTECTOMY  Breast Mixed Ductal and Lobular Carcinoma   \n",
       "5                MASTECTOMY           Breast Invasive Ductal Carcinoma   \n",
       "9                MASTECTOMY          Breast Invasive Lobular Carcinoma   \n",
       "24               MASTECTOMY           Breast Invasive Ductal Carcinoma   \n",
       "30               MASTECTOMY           Breast Invasive Ductal Carcinoma   \n",
       "...                     ...                                        ...   \n",
       "1887             MASTECTOMY           Breast Invasive Ductal Carcinoma   \n",
       "1888      BREAST CONSERVING          Breast Invasive Lobular Carcinoma   \n",
       "1893      BREAST CONSERVING           Breast Invasive Ductal Carcinoma   \n",
       "1895             MASTECTOMY           Breast Invasive Ductal Carcinoma   \n",
       "1900             MASTECTOMY           Breast Invasive Ductal Carcinoma   \n",
       "\n",
       "      cellularity  chemotherapy pam50_+_claudin-low_subtype  cohort er_status  \\\n",
       "4             3.0             1                        LumB     1.0  Positive   \n",
       "5             2.0             0                        LumB     1.0  Positive   \n",
       "9             3.0             0                        Her2     1.0  Positive   \n",
       "24            3.0             1                        Her2     1.0  Negative   \n",
       "30            1.0             1                       Basal     1.0  Negative   \n",
       "...           ...           ...                         ...     ...       ...   \n",
       "1887          2.0             1                        Her2     4.0  Negative   \n",
       "1888          2.0             1                        LumB     4.0  Positive   \n",
       "1893          3.0             0                        LumB     4.0  Positive   \n",
       "1895          3.0             0                 claudin-low     4.0  Negative   \n",
       "1900          3.0             0                        LumB     4.0  Positive   \n",
       "\n",
       "     her2_status_measured_by_snp6 tumor_other_histologic_subtype  \\\n",
       "4                         NEUTRAL                          Mixed   \n",
       "5                         NEUTRAL                     Ductal/NST   \n",
       "9                            LOSS                        Lobular   \n",
       "24                        NEUTRAL                     Ductal/NST   \n",
       "30                        NEUTRAL                     Ductal/NST   \n",
       "...                           ...                            ...   \n",
       "1887                         GAIN                     Ductal/NST   \n",
       "1888                         LOSS                        Lobular   \n",
       "1893                      NEUTRAL                     Ductal/NST   \n",
       "1895                         GAIN                     Ductal/NST   \n",
       "1900                         GAIN                     Ductal/NST   \n",
       "\n",
       "      hormone_therapy  ... serpini1    shbg slc29a1    sox9  srd5a1  srd5a2  \\\n",
       "4                   1  ...  -0.5545  0.0266  0.5328  0.1858 -0.5845 -0.3544   \n",
       "5                   1  ...  -0.3843  0.4306  0.0314  0.6884 -0.3910  0.0395   \n",
       "9                   0  ...  -0.7730 -0.0610 -0.7246  0.2232 -0.3020 -0.4788   \n",
       "24                  0  ...  -0.4717 -0.2999 -1.1837 -0.6720  0.5388  0.7492   \n",
       "30                  0  ...  -0.8543 -0.6889  0.5904 -0.4976 -0.9430  1.0138   \n",
       "...               ...  ...      ...     ...     ...     ...     ...     ...   \n",
       "1887                1  ...  -0.7585  0.6265  0.2031 -0.7843  0.4139  3.1679   \n",
       "1888                1  ...   2.4943 -0.5515  0.3960  0.9873  0.6775  0.2300   \n",
       "1893                1  ...  -0.1345 -0.7049 -0.1228  0.1102 -0.3262  0.7857   \n",
       "1895                1  ...  -0.5185 -0.7966 -1.2708 -0.5444 -0.1952 -1.4212   \n",
       "1900                0  ...   0.1808  1.0998  0.3414  0.2780 -0.5294 -0.6610   \n",
       "\n",
       "         st7    star   log_age  log_tumor_size  \n",
       "4     2.2961  0.1817  4.356324        3.713572  \n",
       "5     0.1977 -0.2302  4.379147        3.465736  \n",
       "9     1.9925  0.2253  4.445236        3.367296  \n",
       "24    2.6880 -0.0811  3.940027        3.713572  \n",
       "30    0.0830  0.2368  4.243913        3.688879  \n",
       "...      ...     ...       ...             ...  \n",
       "1887 -0.6758 -0.9143  3.955466        2.833213  \n",
       "1888  0.8643 -1.5209  4.014941        3.433987  \n",
       "1893  0.9358 -0.9700  4.037774        3.433987  \n",
       "1895 -0.2010 -0.3020  4.004967        3.931826  \n",
       "1900  0.2251  0.5127  3.781459        3.044522  \n",
       "\n",
       "[385 rows x 352 columns]"
      ]
     },
     "execution_count": 168,
     "metadata": {},
     "output_type": "execute_result"
    }
   ],
   "source": [
    "df"
   ]
  },
  {
   "cell_type": "code",
   "execution_count": 164,
   "metadata": {
    "ExecuteTime": {
     "end_time": "2020-08-23T16:50:40.664082Z",
     "start_time": "2020-08-23T16:50:40.610742Z"
    }
   },
   "outputs": [],
   "source": [
    "## one-hot encode nominal features \n",
    "\n",
    "X_t2 = pd.get_dummies(df.drop(columns=['overall_survival']))\n",
    "y_t2 = df['overall_survival']\n",
    "\n",
    "# X_t3 = pd.get_dummies(df_t3.drop(columns=['overall_survival', 'overall_survival_months']))\n",
    "# y_t3 = df_t3['overall_survival']\n",
    "\n",
    "# X_t4 = pd.get_dummies(df_t4.drop(columns=['overall_survival', 'overall_survival_months']))\n",
    "# y_t4 = df_t4['overall_survival']\n",
    "\n",
    "# X_t5 = pd.get_dummies(df_t5.drop(columns=['overall_survival', 'overall_survival_months']))\n",
    "# y_t5 = df_t5['overall_survival']\n",
    "\n",
    "# X_t6 = pd.get_dummies(df_t6.drop(columns=['overall_survival', 'overall_survival_months']))\n",
    "# y_t6 = df_t6['overall_survival']\n",
    "\n",
    "# X_t7 = pd.get_dummies(df_t7.drop(columns=['overall_survival', 'overall_survival_months']))\n",
    "# y_t7 = df_t7['overall_survival']\n",
    "\n",
    "# X_t8 = pd.get_dummies(df_t8.drop(columns=['overall_survival', 'overall_survival_months']))\n",
    "# y_t8 = df_t8['overall_survival']\n",
    "\n",
    "# X_t9 = pd.get_dummies(df_t9.drop(columns=['overall_survival', 'overall_survival_months']))\n",
    "# y_t9 = df_t9['overall_survival']"
   ]
  },
  {
   "cell_type": "code",
   "execution_count": 169,
   "metadata": {
    "ExecuteTime": {
     "end_time": "2020-08-23T16:51:10.116681Z",
     "start_time": "2020-08-23T16:51:09.125697Z"
    }
   },
   "outputs": [],
   "source": [
    "## dimensionality reduction by Singuar Value Decomposition\n",
    "\n",
    "def truncated_svd(X):\n",
    "    '''Reduce dimensionality of TFIDF Matrix.'''\n",
    "    q, s, p = np.linalg.svd(X)\n",
    "    return q, np.diag(s), p.T, s**2/np.linalg.norm(s**2, 1)\n",
    "\n",
    "q, s, p, nssd = [], [], [], []\n",
    "\n",
    "X = [X_t2]\n",
    "\n",
    "for x in X:\n",
    "    qx, sx, px, nssdx = truncated_svd(x)\n",
    "    q.append(qx)\n",
    "    s.append(sx)\n",
    "    p.append(px)\n",
    "    nssd.append(nssdx)"
   ]
  },
  {
   "cell_type": "code",
   "execution_count": 171,
   "metadata": {
    "ExecuteTime": {
     "end_time": "2020-08-23T16:51:16.490519Z",
     "start_time": "2020-08-23T16:51:16.486103Z"
    }
   },
   "outputs": [],
   "source": [
    "# np.where(np.round(nssd[0].cumsum(), 1) == 0.9 )[0][1]\n",
    "# nssd[6].cumsum()\n",
    "# nssd[0].cumsum()"
   ]
  },
  {
   "cell_type": "code",
   "execution_count": 178,
   "metadata": {
    "ExecuteTime": {
     "end_time": "2020-08-23T16:51:42.154101Z",
     "start_time": "2020-08-23T16:51:41.127493Z"
    }
   },
   "outputs": [
    {
     "data": {
      "image/png": "[encoded data removed]",
      "text/plain": [
       "<Figure size 1080x504 with 9 Axes>"
      ]
     },
     "metadata": {
      "needs_background": "light"
     },
     "output_type": "display_data"
    }
   ],
   "source": [
    "fig, ((ax1, ax2, ax3, ax4), (ax5, ax6, ax7, ax8)) = plt.subplots(2, 4, figsize=(15,7), sharey=True)\n",
    "\n",
    "ax_list = [ax1, ax2, ax3, ax4, ax5, ax6, ax7, ax8]\n",
    "\n",
    "svs = [35]\n",
    "\n",
    "for i in range(1):\n",
    "    ax_list[i].plot(range(1, len(nssd[i])+1), nssd[i], '-', label='individual')\n",
    "    ax_list[i].set_xlim(0, len(nssd[i])+1)\n",
    "    ax_list[i].set_xlabel('SV')\n",
    "    ax_list[i].set_ylabel('variance explained')\n",
    "    ax_list[i] = ax_list[i].twinx()\n",
    "    ax_list[i].plot(range(1, len(nssd[i])+1), nssd[i].cumsum(), 'r-', label='cumulative')\n",
    "    ax_list[i].axhline(0.9, ls='--', color='b')\n",
    "    ax_list[i].set_ylabel('cumulative variance explained')\n",
    "    ax_list[i].axvline(svs[i], ls='--', color='b')\n",
    "    ax_list[i].set_title(f'Time Bin t < {i+2} years')\n",
    "\n",
    "plt.tight_layout();"
   ]
  },
  {
   "cell_type": "code",
   "execution_count": 179,
   "metadata": {
    "ExecuteTime": {
     "end_time": "2020-08-23T16:51:44.978026Z",
     "start_time": "2020-08-23T16:51:43.247649Z"
    }
   },
   "outputs": [
    {
     "data": {
      "image/png": "[encoded data removed]",
      "text/plain": [
       "<Figure size 1080x504 with 9 Axes>"
      ]
     },
     "metadata": {
      "needs_background": "light"
     },
     "output_type": "display_data"
    }
   ],
   "source": [
    "fig, ((ax1, ax2, ax3, ax4), (ax5, ax6, ax7, ax8)) = plt.subplots(2, 4, figsize=(15,7), sharey=True)\n",
    "\n",
    "ax_list = [ax1, ax2, ax3, ax4, ax5, ax6, ax7, ax8]\n",
    "X_reduced = []\n",
    "\n",
    "for i in range(1):\n",
    "    svd = TruncatedSVD(n_components=svs[i]).fit(X[i])\n",
    "    X_reduced.append(svd.transform(X[i]))\n",
    "    I = np.identity(X[i].shape[1])\n",
    "    weights = pd.DataFrame(svd.transform(I), index=X[i].columns)\n",
    "    weights.columns = [f'SV-{i+1}' for i in weights.columns]\n",
    "    weights = weights.transform(np.abs).copy()\n",
    "    sns.heatmap(weights.sort_values(by='SV-1', ascending=False).iloc[:10, :10], \n",
    "                ax=ax_list[i])\n",
    "    ax_list[i].set_title(f't < {i+2} years')\n",
    "\n",
    "plt.tight_layout()"
   ]
  },
  {
   "cell_type": "code",
   "execution_count": 117,
   "metadata": {
    "ExecuteTime": {
     "end_time": "2020-08-23T16:37:04.554689Z",
     "start_time": "2020-08-23T16:37:04.546619Z"
    }
   },
   "outputs": [
    {
     "data": {
      "text/plain": [
       "(1424,)"
      ]
     },
     "execution_count": 117,
     "metadata": {},
     "output_type": "execute_result"
    }
   ],
   "source": [
    "X_reduced[0].shape\n",
    "y_t2.shape"
   ]
  },
  {
   "cell_type": "code",
   "execution_count": 180,
   "metadata": {
    "ExecuteTime": {
     "end_time": "2020-08-23T16:51:54.321693Z",
     "start_time": "2020-08-23T16:51:53.368138Z"
    }
   },
   "outputs": [],
   "source": [
    "## run logistic regression classifier\n",
    "\n",
    "logic_t2 = LogisticRegressionCV(Cs=[0.0001, 0.0015, 0.002, 0.003, 0.004, 0.0045], \n",
    "                                cv=20, scoring='roc_auc', penalty='l2', \n",
    "                             solver='liblinear', max_iter=1000, n_jobs=-1\n",
    "                               ).fit(X_reduced[0], y_t2)\n",
    "prob_t2 = pd.DataFrame(logic_t2.predict_proba(X_reduced[0]))\n",
    "prob_t2['actual'] = list(y_t2)\n",
    "prob_t2['pred'] = logic_t2.predict(X_reduced[0])\n",
    "\n",
    "mean_t2, std_t2 = np.mean(logic_t2.scores_[1]), np.std(logic_t2.scores_[1])\n",
    "\n",
    "\n",
    "# logic_t3 = LogisticRegressionCV(Cs=[0.0001, 0.0015, 0.002, 0.003, 0.004, 0.0045], \n",
    "#                                 cv=20, scoring='roc_auc', penalty='l2', \n",
    "#                              solver='liblinear', max_iter=1000, n_jobs=-1\n",
    "#                                ).fit(X_reduced[1], y_t3)\n",
    "# prob_t3 = pd.DataFrame(logic_t3.predict_proba(X_reduced[1]))\n",
    "# prob_t3['actual'] = list(y_t3)\n",
    "# prob_t3['pred'] = logic_t3.predict(X_reduced[1])\n",
    "# mean_t3, std_t3 = np.mean(logic_t3.scores_[1]), np.std(logic_t3.scores_[1])\n",
    "\n",
    "\n",
    "# logic_t4 = LogisticRegressionCV(Cs=[0.0001, 0.0015, 0.002, 0.003, 0.004, 0.0045],\n",
    "#                                 cv=20, scoring='roc_auc', penalty='l2', \n",
    "#                              solver='liblinear', max_iter=1000, n_jobs=-1\n",
    "#                                ).fit(X_reduced[2], y_t4)\n",
    "# prob_t4 = pd.DataFrame(logic_t4.predict_proba(X_reduced[2]))\n",
    "# prob_t4['actual'] = list(y_t4)\n",
    "# prob_t4['pred'] = logic_t4.predict(X_reduced[2])\n",
    "# mean_t4, std_t4 = np.mean(logic_t4.scores_[1]), np.std(logic_t4.scores_[1])\n",
    "\n",
    "\n",
    "# logic_t5 = LogisticRegressionCV(Cs=[0.0001, 0.0015, 0.002, 0.003, 0.004, 0.0045],\n",
    "#                                 cv=20, scoring='roc_auc', penalty='l2', \n",
    "#                              solver='liblinear', max_iter=1000, n_jobs=-1\n",
    "#                                ).fit(X_reduced[3], y_t5)\n",
    "# prob_t5 = pd.DataFrame(logic_t5.predict_proba(X_reduced[3]))\n",
    "# prob_t5['actual'] = list(y_t5)\n",
    "# prob_t5['pred'] = logic_t5.predict(X_reduced[3])\n",
    "# mean_t5, std_t5 = np.mean(logic_t5.scores_[1]), np.std(logic_t5.scores_[1])\n",
    "\n",
    "\n",
    "# logic_t6 = LogisticRegressionCV(Cs=[0.0001, 0.0015, 0.002, 0.003, 0.004, 0.0045],\n",
    "#                                 cv=20, scoring='roc_auc', penalty='l2', \n",
    "#                              solver='liblinear', max_iter=1000, n_jobs=-1\n",
    "#                                ).fit(X_reduced[4], y_t6)\n",
    "# prob_t6 = pd.DataFrame(logic_t6.predict_proba(X_reduced[4]))\n",
    "# prob_t6['actual'] = list(y_t6)\n",
    "# prob_t6['pred'] = logic_t6.predict(X_reduced[4])\n",
    "# mean_t6, std_t6 = np.mean(logic_t6.scores_[1]), np.std(logic_t6.scores_[1])\n",
    "\n",
    "\n",
    "# logic_t7 = LogisticRegressionCV(Cs=[0.0001, 0.0015, 0.002, 0.003, 0.004, 0.0045],\n",
    "#                                 cv=20, scoring='roc_auc', penalty='l2', \n",
    "#                              solver='liblinear', max_iter=1000, n_jobs=-1\n",
    "#                                ).fit(X_reduced[5], y_t7)\n",
    "# prob_t7 = pd.DataFrame(logic_t7.predict_proba(X_reduced[5]))\n",
    "# prob_t7['actual'] = list(y_t7)\n",
    "# prob_t7['pred'] = logic_t7.predict(X_reduced[5])\n",
    "# mean_t7, std_t7 = np.mean(logic_t7.scores_[1]), np.std(logic_t7.scores_[1])\n",
    "\n",
    "\n",
    "# logic_t8 = LogisticRegressionCV(Cs=[0.0001, 0.0015, 0.002, 0.003, 0.004, 0.0045],\n",
    "#                                 cv=20, scoring='roc_auc', penalty='l2', \n",
    "#                              solver='liblinear', max_iter=1000, n_jobs=-1\n",
    "#                                ).fit(X_reduced[6], y_t8)\n",
    "# prob_t8 = pd.DataFrame(logic_t8.predict_proba(X_reduced[6]))\n",
    "# prob_t8['actual'] = list(y_t8)\n",
    "# prob_t8['pred'] = logic_t8.predict(X_reduced[6])\n",
    "# mean_t8, std_t8 = np.mean(logic_t8.scores_[1]), np.std(logic_t8.scores_[1])\n",
    "\n",
    "\n",
    "# logic_t9 = LogisticRegressionCV(Cs=[0.0001, 0.0015, 0.002, 0.003, 0.004, 0.0045],\n",
    "#                                 cv=20, scoring='roc_auc', penalty='l2', \n",
    "#                              solver='liblinear', max_iter=1000, n_jobs=-1\n",
    "#                                ).fit(X_reduced[7], y_t9)\n",
    "# prob_t9 = pd.DataFrame(logic_t9.predict_proba(X_reduced[7]))\n",
    "# prob_t9['actual'] = list(y_t9)\n",
    "# prob_t9['pred'] = logic_t9.predict(X_reduced[7])\n",
    "# mean_t9, std_t9 = np.mean(logic_t9.scores_[1]), np.std(logic_t9.scores_[1])"
   ]
  },
  {
   "cell_type": "code",
   "execution_count": 181,
   "metadata": {
    "ExecuteTime": {
     "end_time": "2020-08-23T16:51:57.322482Z",
     "start_time": "2020-08-23T16:51:57.302394Z"
    }
   },
   "outputs": [],
   "source": [
    "results = pd.concat([X_t2, \n",
    "                        prob_t2.set_index(X_t2.index)], axis=1)"
   ]
  },
  {
   "cell_type": "code",
   "execution_count": 198,
   "metadata": {
    "ExecuteTime": {
     "end_time": "2020-08-23T16:53:25.647913Z",
     "start_time": "2020-08-23T16:53:25.640077Z"
    }
   },
   "outputs": [
    {
     "data": {
      "text/plain": [
       "60"
      ]
     },
     "execution_count": 198,
     "metadata": {},
     "output_type": "execute_result"
    }
   ],
   "source": [
    "sum(results['actual'] == 1)\n",
    "# mean_t2"
   ]
  },
  {
   "cell_type": "code",
   "execution_count": 207,
   "metadata": {
    "ExecuteTime": {
     "end_time": "2020-08-23T16:55:36.665214Z",
     "start_time": "2020-08-23T16:55:36.501734Z"
    }
   },
   "outputs": [
    {
     "data": {
      "text/plain": [
       "<matplotlib.axes._subplots.AxesSubplot at 0x7f00241b30d0>"
      ]
     },
     "execution_count": 207,
     "metadata": {},
     "output_type": "execute_result"
    },
    {
     "data": {
      "image/png": "[encoded data removed]",
      "text/plain": [
       "<Figure size 432x288 with 1 Axes>"
      ]
     },
     "metadata": {
      "needs_background": "light"
     },
     "output_type": "display_data"
    }
   ],
   "source": [
    "dt = discretize_transform(results)\n",
    "\n",
    "dt[dt['time_bin'] == 5][[1, 'mutation_count']].plot(kind='scatter', x='mutation_count', y=1)"
   ]
  },
  {
   "cell_type": "code",
   "execution_count": 216,
   "metadata": {
    "ExecuteTime": {
     "end_time": "2020-08-23T16:59:53.300518Z",
     "start_time": "2020-08-23T16:59:53.149499Z"
    }
   },
   "outputs": [
    {
     "data": {
      "text/plain": [
       "<matplotlib.axes._subplots.AxesSubplot at 0x7f002434a550>"
      ]
     },
     "execution_count": 216,
     "metadata": {},
     "output_type": "execute_result"
    },
    {
     "data": {
      "image/png": "[encoded data removed]",
      "text/plain": [
       "<Figure size 432x288 with 1 Axes>"
      ]
     },
     "metadata": {
      "needs_background": "light"
     },
     "output_type": "display_data"
    }
   ],
   "source": [
    "dt.groupby('time_bin')[1].mean().plot(kind='line')"
   ]
  }
 ],
 "metadata": {
  "kernelspec": {
   "display_name": "Python 3",
   "language": "python",
   "name": "python3"
  },
  "language_info": {
   "codemirror_mode": {
    "name": "ipython",
    "version": 3
   },
   "file_extension": ".py",
   "mimetype": "text/x-python",
   "name": "python",
   "nbconvert_exporter": "python",
   "pygments_lexer": "ipython3",
   "version": "3.7.8"
  }
 },
 "nbformat": 4,
 "nbformat_minor": 4
}
